{
 "cells": [
  {
   "cell_type": "code",
   "execution_count": null,
   "id": "62b5f923-25c5-4b60-bad5-d1753173ed42",
   "metadata": {},
   "outputs": [],
   "source": [
    "1.What data type is each of the following (evaluate where necessary)?\n",
    "a. 5 \n",
    "b. 5.0\n",
    "c. 5 > 1\n",
    "d. '5'\n",
    "e. 5 * 2\n",
    "f. '5' * 2\n",
    "g. '5' + '2'\n",
    "h. 5 / 2\n",
    "i. 5 % 2\n",
    "j. {5, 2, 1}\n",
    "k. 5 == 3\n",
    "l. Pi (the number)\n"
   ]
  },
  {
   "cell_type": "code",
   "execution_count": null,
   "id": "61d2030b-480a-4569-90fb-6abdef0a17fe",
   "metadata": {},
   "outputs": [],
   "source": [
    "a. INT\n",
    "b. FLOAT\n",
    "c. BOOL\n",
    "d. STR\n",
    "e. INT\n",
    "f. STR\n",
    "g. STR\n",
    "h. FLOAT\n",
    "i. INT\n",
    "j. SET\n",
    "k. BOOL\n",
    "l. FLOAT"
   ]
  },
  {
   "cell_type": "code",
   "execution_count": null,
   "id": "8aac64ad-8e3c-4a85-a7e3-ea60206b8767",
   "metadata": {},
   "outputs": [],
   "source": [
    "a. How many letters are there in 'Supercalifragilisticexpialidocious'?"
   ]
  },
  {
   "cell_type": "code",
   "execution_count": 18,
   "id": "14dc14a2-6a57-4628-aa81-3fa4144d321e",
   "metadata": {},
   "outputs": [
    {
     "name": "stdout",
     "output_type": "stream",
     "text": [
      "There are 34 letters in Supercalifragilisticexpialidocious.\n"
     ]
    }
   ],
   "source": [
    "#Using built-in function len that returns the characters in the string\n",
    "letter = len('Supercalifragilisticexpialidocious')\n",
    "#Printing the desired result along with the message\n",
    "print(\"There are\", letter, \"letters in Supercalifragilisticexpialidocious.\")"
   ]
  },
  {
   "cell_type": "code",
   "execution_count": null,
   "id": "3c62c2f0-cb92-49af-9cb2-3eb184f02361",
   "metadata": {},
   "outputs": [],
   "source": [
    "b. Does 'Supercalifragilisticexpialidocious' contain 'ice' as a substring? "
   ]
  },
  {
   "cell_type": "code",
   "execution_count": 19,
   "id": "69ae955f-ca34-433b-8a3a-18fa9d382b71",
   "metadata": {},
   "outputs": [
    {
     "name": "stdout",
     "output_type": "stream",
     "text": [
      "The word 'ice' is present in 'Supercalifragilisticexpialidocious' as a substring.\n"
     ]
    }
   ],
   "source": [
    "#Checking if 'ice' is contained in the word 'Supercalifragilisticexpialidocious'\n",
    "ice = 'ice' in 'Supercalifragilisticexpialidocious'\n",
    "#If 'ice' is not found in the given string as a substring\n",
    "if not ice:\n",
    "    print(\"The word 'ice' is not present in 'Supercalifragilisticexpialidocious' as a substring\")\n",
    "#If 'ice' is found in the given string as a substring\n",
    "else:\n",
    "    print(\"The word 'ice' is present in 'Supercalifragilisticexpialidocious' as a substring.\")"
   ]
  },
  {
   "cell_type": "code",
   "execution_count": null,
   "id": "ebe22615-83fb-4aac-a49d-3db2ade62cc6",
   "metadata": {},
   "outputs": [],
   "source": [
    "c. Which of the following words is the longest: \n",
    "Supercalifragilisticexpialidocious, Honorificabilitudinitatibus, or \n",
    "Bababadalgharaghtakamminarronnkonn? "
   ]
  },
  {
   "cell_type": "code",
   "execution_count": 20,
   "id": "eb8bbaf0-fa0e-4a98-84eb-a0c51c52c4e1",
   "metadata": {},
   "outputs": [
    {
     "name": "stdout",
     "output_type": "stream",
     "text": [
      "The longest word amongst the given words is: Supercalifragilisticexpialidocious\n"
     ]
    }
   ],
   "source": [
    "#Given words in a list\n",
    "w = ['Supercalifragilisticexpialidocious', 'Honorificabilitudinitatibus', 'Bababadalgharaghtakamminarronnkonn']\n",
    "\n",
    "# longest word\n",
    "long_word = max(w, key=len)\n",
    "\n",
    "#Print the longest word\n",
    "print (\"The longest word amongst the given words is:\", long_word)"
   ]
  },
  {
   "cell_type": "code",
   "execution_count": null,
   "id": "18b1f6d3-1bd5-431a-b8be-b1568843ebfa",
   "metadata": {},
   "outputs": [],
   "source": [
    "d. Which composer comes first in the dictionary: 'Berlioz', 'Borodin', 'Brian', \n",
    "'Bartok', 'Bellini', 'Buxtehude', 'Bernstein'. Which one comes last?"
   ]
  },
  {
   "cell_type": "code",
   "execution_count": 14,
   "id": "44064f49-de14-44fe-a62c-73e88df29c17",
   "metadata": {},
   "outputs": [
    {
     "name": "stdout",
     "output_type": "stream",
     "text": [
      "Bartok is the first composer amongst the given words.\n",
      "Buxtehude is the last composer amongst the given words.\n"
     ]
    }
   ],
   "source": [
    "#Composers in the list\n",
    "composer = ['Berlioz', 'Borodin', 'Brian', \n",
    "'Bartok', 'Bellini', 'Buxtehude', 'Bernstein']\n",
    "\n",
    "#First and Last Composer in the dictionary\n",
    "composer_first = min(composer)\n",
    "composer_last = max(composer)\n",
    "\n",
    "print(composer_first, \"is the first composer amongst the given words.\")\n",
    "print(composer_last, \"is the last composer amongst the given words.\")"
   ]
  },
  {
   "cell_type": "code",
   "execution_count": null,
   "id": "b0113705-4f70-48da-bef5-3633ea41203f",
   "metadata": {},
   "outputs": [],
   "source": [
    "3.Implement function triangleArea(a,b,c) that takes as input the lengths of the 3\n",
    "sides of a triangle and returns the area of the triangle. By Heron's formula, the area \n",
    "of a triangle with side lengths a, b, and c is\n",
    "s(s - a)(s -b)(s -c)\n",
    ", where \n",
    "s = (a+b+c)/2. "
   ]
  },
  {
   "cell_type": "code",
   "execution_count": 13,
   "id": "2f1e3dca-94c7-4607-b05e-cab7f7092ff3",
   "metadata": {},
   "outputs": [
    {
     "name": "stdout",
     "output_type": "stream",
     "text": [
      "Area of the triangle: 1.7320508075688772\n"
     ]
    }
   ],
   "source": [
    "import math  # Import the math module to use the sqrt function\n",
    "\n",
    "def triangleArea(a, b, c):\n",
    "\n",
    "    \n",
    "    # Calculate the semi-perimeter (s) of the triangle\n",
    "    s = (a + b + c) / 2\n",
    "    \n",
    "    # Use Heron's formula to calculate the area\n",
    "    # Area = sqrt(s * (s - a) * (s - b) * (s - c))\n",
    "    area = math.sqrt(s * (s - a) * (s - b) * (s - c))\n",
    "    \n",
    "    return area  # Return the calculated area\n",
    "\n",
    "# Example usage\n",
    "a = 2  # Length of the first side\n",
    "b = 2 # Length of the second side\n",
    "c = 2  # Length of the third side\n",
    "print(\"Area of the triangle:\", triangleArea(a, b, c))\n"
   ]
  },
  {
   "cell_type": "code",
   "execution_count": null,
   "id": "7968f01b-57a3-49b7-9073-86bc62c727f7",
   "metadata": {},
   "outputs": [],
   "source": [
    "4. Write a program in python to separate odd and even integers in separate arrays. Go \n",
    "to the editor\n",
    "Test Data :\n",
    "Input the number of elements to be stored in the array :5\n",
    "Input 5 elements in the array :\n",
    "element - 0 : 25\n",
    "element - 1 : 47\n",
    "element - 2 : 42\n",
    "element - 3 : 56\n",
    "element - 4 : 32\n",
    "Expected Output:\n",
    "The Even elements are:\n",
    "42 56 32\n",
    "The Odd elements are :\n",
    "25 47\n"
   ]
  },
  {
   "cell_type": "code",
   "execution_count": 12,
   "id": "26361ad9-5ee7-4161-bcfe-c14e92cae2e3",
   "metadata": {},
   "outputs": [
    {
     "name": "stdin",
     "output_type": "stream",
     "text": [
      "Input the number of elements to be stored in the array:  5\n"
     ]
    },
    {
     "name": "stdout",
     "output_type": "stream",
     "text": [
      "Input 5 elements in the array:\n"
     ]
    },
    {
     "name": "stdin",
     "output_type": "stream",
     "text": [
      "element - 0 :  25\n",
      "element - 1 :  47\n",
      "element - 2 :  42\n",
      "element - 3 :  56\n",
      "element - 4 :  32\n"
     ]
    },
    {
     "name": "stdout",
     "output_type": "stream",
     "text": [
      "The Even elements are:\n",
      "42 56 32 \n",
      "The Odd elements are:\n",
      "25 47 \n"
     ]
    }
   ],
   "source": [
    "def separate_odd_even():\n",
    "    # Ask for the number of elements to store in the array\n",
    "    n = int(input(\"Input the number of elements to be stored in the array: \"))\n",
    "    \n",
    "    # Initialize empty lists to store even and odd numbers\n",
    "    even_numbers = []\n",
    "    odd_numbers = []\n",
    "    \n",
    "    # Ask for each element and classify it as odd or even\n",
    "    print(f\"Input {n} elements in the array:\")\n",
    "    for i in range(n):\n",
    "        element = int(input(f\"element - {i} : \"))  # Input the element with the listed format\n",
    "        if element % 2 == 0:\n",
    "            even_numbers.append(element)  # Add to the even list\n",
    "        else:\n",
    "            odd_numbers.append(element)  # Add to the odd list\n",
    "    \n",
    "    # Print even numbers\n",
    "    print(\"The Even elements are:\")\n",
    "    for even in even_numbers:\n",
    "        print(even, end=' ')  # Print even numbers in one line\n",
    "    print()  # Move to the next line after printing all even numbers\n",
    "\n",
    "    # Print odd numbers\n",
    "    print(\"The Odd elements are:\")\n",
    "    for odd in odd_numbers:\n",
    "        print(odd, end=' ')  # Print odd numbers in one line\n",
    "    print()  # Move to the next line after printing all odd numbers\n",
    "\n",
    "# Run the program\n",
    "separate_odd_even()\n",
    "\n"
   ]
  },
  {
   "cell_type": "code",
   "execution_count": null,
   "id": "8425aa01-048d-4d8f-a1bc-11dac10ff04a",
   "metadata": {},
   "outputs": [],
   "source": [
    "5. a. . Write a function inside(x,y,x1,y1,x2,y2) that returns True or False \n",
    "depending on whether the point (x,y) lies in the rectangle with lower left \n",
    "corner (x1,y1) and upper right corner (x2,y2)."
   ]
  },
  {
   "cell_type": "code",
   "execution_count": 8,
   "id": "0c9a6364-0d7a-486b-8846-6deec8c5e3c7",
   "metadata": {},
   "outputs": [
    {
     "name": "stdout",
     "output_type": "stream",
     "text": [
      "True\n",
      "False\n"
     ]
    }
   ],
   "source": [
    "def is_point_inside(x, y, x1, y1, x2, y2):\n",
    "    \"\"\"\n",
    "    Check if a point (x, y) is inside a rectangle.\n",
    "    \n",
    "    Parameters:\n",
    "    x (float): The x-coordinate of the point.\n",
    "    y (float): The y-coordinate of the point.\n",
    "    x1 (float): The x-coordinate of the rectangle's bottom-left corner.\n",
    "    y1 (float): The y-coordinate of the rectangle's bottom-left corner.\n",
    "    x2 (float): The x-coordinate of the rectangle's top-right corner.\n",
    "    y2 (float): The y-coordinate of the rectangle's top-right corner.\n",
    "    \n",
    "    Returns:\n",
    "    bool: True if the point is inside the rectangle aand False if it is outside.\n",
    "    \"\"\"\n",
    "    \n",
    "    # Check if the point is within the bounds of the rectangle\n",
    "    return x1 <= x <= x2 and y1 <= y <= y2\n",
    "\n",
    "# Example usage\n",
    "print(is_point_inside(1, 1, 0, 0, 2, 3))    # Should return True (point is inside)\n",
    "print(is_point_inside(-1, -1, 0, 0, 2, 3))  # Should return False (point is outside)\n"
   ]
  },
  {
   "cell_type": "code",
   "execution_count": null,
   "id": "b8cb0719-8b3e-44e7-b878-38805c3ec6b4",
   "metadata": {},
   "outputs": [],
   "source": [
    "5. b.  Use function inside() from part a. to write an expression that tests whether \n",
    "the point (1,1) lies in both of the following rectangles: one with lower left \n",
    "corner (0.3, 0.5) and upper right corner (1.1, 0.7) and the other with lower \n",
    "left corner (0.5, 0.2) and upper right corner (1.1, 2). "
   ]
  },
  {
   "cell_type": "code",
   "execution_count": 22,
   "id": "e09b5eb9-efc8-4506-ae69-027e78a88cf5",
   "metadata": {},
   "outputs": [
    {
     "name": "stdout",
     "output_type": "stream",
     "text": [
      "Point (1, 1) inside rectangle 1: False\n",
      "Point (1, 1) inside rectangle 2: True\n",
      "Point (1, 1) inside both rectangles: False\n"
     ]
    }
   ],
   "source": [
    "def inside(x, y, x1, y1, x2, y2):\n",
    "    \"\"\"Check if a point (x, y) is inside a rectangle defined by corners (x1, y1) and (x2, y2).\"\"\"\n",
    "    return x1 <= x <= x2 and y1 <= y <= y2\n",
    "\n",
    "# Point to check\n",
    "point_x = 1\n",
    "point_y = 1\n",
    "\n",
    "# Check if the point is inside the first rectangle\n",
    "result_r1 = inside(point_x, point_y, 0.3, 0.5, 1.1, 0.7)\n",
    "\n",
    "# Check if the point is inside the second rectangle\n",
    "result_r2 = inside(point_x, point_y, 0.5, 0.2, 1.1, 2)\n",
    "\n",
    "# Print results for each rectangle\n",
    "print(\"Point (1, 1) inside rectangle 1:\", result_r1)  \n",
    "print(\"Point (1, 1) inside rectangle 2:\", result_r2)\n",
    "\n",
    "# Check if the point is inside both rectangles\n",
    "inside_both = result_r1 and result_r2\n",
    "\n",
    "# Print result for both rectangles\n",
    "print(\"Point (1, 1) inside both rectangles:\", inside_both)\n"
   ]
  },
  {
   "cell_type": "code",
   "execution_count": null,
   "id": "139e7c48-7bf4-4cbb-996e-84b70d668bf9",
   "metadata": {},
   "outputs": [],
   "source": [
    "6. You can turn a word into pig-Latin using the following two rules (simplified):\n",
    "• If the word starts with a consonant, move that letter to the end and append \n",
    "'ay'. For example, 'happy' becomes 'appyhay' and 'pencil' becomes 'encilpay'.\n",
    "• If the word starts with a vowel, simply append 'way' to the end of the word. \n",
    "For example, 'enter' becomes 'enterway' and 'other' becomes 'otherway' . For \n",
    "our purposes, there are 5 vowels: a, e, i, o, u (so we count y as a consonant).\n",
    "Write a function pig() that takes a word (i.e., a string) as input and returns its pig\u0002Latin form. Your function should still work if the input word contains upper case \n",
    "characters. Your output should always be lower case however. "
   ]
  },
  {
   "cell_type": "code",
   "execution_count": 6,
   "id": "12f4323e-48f3-4b48-9de2-b67cb1b09fc1",
   "metadata": {},
   "outputs": [
    {
     "name": "stdout",
     "output_type": "stream",
     "text": [
      "appyhay\n",
      "enterway\n"
     ]
    }
   ],
   "source": [
    "def pig(word):\n",
    "\n",
    "    # Convert the input word to lowercase for processing\n",
    "    word_lower = word.lower()\n",
    "    \n",
    "    # Check if the first letter is a vowel\n",
    "    if word_lower[0] in 'aeiou':\n",
    "        # If it starts with a vowel, append 'way'\n",
    "        return word_lower + 'way'\n",
    "    else:\n",
    "        # If it starts with a consonant, move the first letter to the end and append 'ay'\n",
    "        return word_lower[1:] + word_lower[0] + 'ay'\n",
    "\n",
    "# Example usage\n",
    "print(pig('happy'))  # Output: 'appyhay'\n",
    "print(pig('Enter'))  # Output: 'enterway'"
   ]
  },
  {
   "cell_type": "code",
   "execution_count": null,
   "id": "f0cad9c7-2fa2-4761-b994-148fe3159217",
   "metadata": {},
   "outputs": [],
   "source": [
    "7. File bloodtype1.txt records blood-types of patients (A, B, AB, O or OO) at a clinic. \n",
    "Write a function bldcount() that reads the file with name name and reports (i.e., \n",
    "prints) how many patients there are in each bloodtype.\n"
   ]
  },
  {
   "cell_type": "code",
   "execution_count": null,
   "id": "732379fa-1392-4863-9c02-9d8b97fb3c73",
   "metadata": {},
   "outputs": [],
   "source": [
    "def bldcount(bloodtype_file):\n",
    "    blood_types = ['A', 'B', 'AB', 'O', 'OO']\n",
    "    blood_counts = {bt: 0 for bt in blood_types}\n",
    "\n",
    "    # Read the contents of the specified file\n",
    "    with open(bloodtype_file) as infile:  # Using a context manager to handle the file\n",
    "        blood_data = infile.read()  \n",
    "\n",
    "    # Create a list of blood types from the file content\n",
    "    blood_list = blood_data.split()\n",
    "\n",
    "    # Count how many times each blood type appears\n",
    "    for blood in blood_list:\n",
    "        if blood in blood_counts:\n",
    "            blood_counts[blood] += 1\n",
    "\n",
    "    # Output the results\n",
    "    for bt in blood_types:\n",
    "        count = blood_counts[bt]\n",
    "        print(f\"There {'is' if count == 1 else 'are'} {count if count > 0 else 'no'} patients of blood type {bt}.\")\n",
    "\n",
    "# Example usage\n",
    "bldcount('bloodtype1.txt')\n"
   ]
  },
  {
   "cell_type": "code",
   "execution_count": null,
   "id": "c27ce18a-dc37-4613-b99b-1fc267c6962d",
   "metadata": {},
   "outputs": [],
   "source": [
    "8. Write a function curconv() that takes as input:\n",
    "1. a currency represented using a string (e.g., 'JPY' for the Japanese Yen or \n",
    "'EUR' for the Euro)\n",
    "2. an amount\n",
    "and then converts and returns the amount in US dollars."
   ]
  },
  {
   "cell_type": "code",
   "execution_count": null,
   "id": "cf541995-6883-43fd-9966-97db698673f9",
   "metadata": {},
   "outputs": [],
   "source": [
    "def curconv(currency, amount):\n",
    "    # Open and read the contents of the currency file\n",
    "    infile = open('currencies.txt')  \n",
    "    currency_data = infile.read()  \n",
    "    infile.close()  \n",
    "\n",
    "    # Create a dictionary to hold currency conversion rates\n",
    "    conversion_rates = {}\n",
    "\n",
    "    # Process each line in the currency data\n",
    "    for line in currency_data.splitlines():  # Split the data into individual lines\n",
    "        parts = line.split()  # Split each line into components\n",
    "        if len(parts) >= 2:  # Ensure there are enough parts\n",
    "            currency_code = parts[0]  # Extract the currency code\n",
    "            exchange_rate = float(parts[1])  # Convert the rate to a float\n",
    "            conversion_rates[currency_code] = exchange_rate  # Store the rate in the dictionary\n",
    "\n",
    "    # Convert the given amount to USD using the currency rate\n",
    "    return amount * conversion_rates[currency]\n",
    "\n",
    "# Example usage\n",
    "print(curconv('EUR', 100))  # Convert 100 Euros to USD\n",
    "print(curconv('JPY', 100))  # Convert 100 Japanese Yen to USD\n"
   ]
  },
  {
   "cell_type": "code",
   "execution_count": null,
   "id": "2768a927-03bb-4cb7-a060-67df4dd126dd",
   "metadata": {},
   "outputs": [],
   "source": [
    "9. Each of the following will cause an exception (an error). Identify what type of \n",
    "exception each will cause.\n",
    "a. Trying to add incompatible variables, as in \n",
    "adding 6 + ‘a’\n",
    "b. Referring to the 12th item of a list that has only 10 \n",
    "items\n",
    "c. Using a value that is out of range for a function’s \n",
    "input, such as calling math.sqrt(-1.0)\n",
    "d. Using an undeclared variable, such as print(x)\n",
    "when x has not been defined \n",
    "e. Trying to open a file that does not exist, such as \n",
    "mistyping the file name or looking in the wrong \n",
    "directory. "
   ]
  },
  {
   "cell_type": "code",
   "execution_count": null,
   "id": "9c8825e4-f593-45e8-af3b-5de9304aec71",
   "metadata": {},
   "outputs": [],
   "source": [
    "a. TypeError\n",
    "b. IndexError\n",
    "c. ValueError\n",
    "d. NameError\n",
    "e. FileNotFoundError"
   ]
  },
  {
   "cell_type": "code",
   "execution_count": null,
   "id": "75ffacbc-4f41-47e5-b5f4-70d9af73cd03",
   "metadata": {},
   "outputs": [],
   "source": [
    "10. Encryption is the process of hiding the meaning of a text by substituting letters in the \n",
    "message with other letters, according to some system. If the process is successful, no \n",
    "one but the intended recipient can understand the encrypted message. Cryptanalysis\n",
    "refers to attempts to undo the encryption, even if some details of the encryption are \n",
    "unknown (for example, if an encrypted message has been intercepted). The first step \n",
    "of cryptanalysis is often to build up a table of letter frequencies in the encrypted text. \n",
    "Assume that the string letters is already defined as \n",
    "'abcdefghijklmnopqrstuvwxyz'. Write a function called frequencies()\n",
    "that takes a string as its only parameter, and returns a list of integers, showing the \n",
    "number of times each character appears in the text. Your function may ignore any \n",
    "characters that are not in letters. "
   ]
  },
  {
   "cell_type": "code",
   "execution_count": 1,
   "id": "3137f829-05c0-4999-9690-d8df1b98fe18",
   "metadata": {},
   "outputs": [
    {
     "name": "stdout",
     "output_type": "stream",
     "text": [
      "[1, 1, 1, 3, 5, 1, 1, 2, 1, 0, 1, 0, 1, 2, 4, 0, 1, 2, 0, 3, 1, 0, 1, 1, 0, 0]\n",
      "[1, 0, 0, 0, 1, 0, 0, 0, 0, 0, 0, 1, 0, 0, 0, 2, 0, 0, 0, 0, 0, 0, 0, 0, 0, 0]\n"
     ]
    }
   ],
   "source": [
    "def frequencies(text):\n",
    "    # This is a string that contains all the letters from 'a' to 'z'\n",
    "    letters = 'abcdefghijklmnopqrstuvwxyz'\n",
    "    \n",
    "    # Create a list with 26 zeros to keep track of how many times each letter appears\n",
    "    freq = [0] * 26\n",
    "    \n",
    "    # Change the input text to lowercase so that 'A' and 'a' are treated the same\n",
    "    text = text.lower()\n",
    "    \n",
    "    # Go through each character in the text\n",
    "    for char in text:\n",
    "        # Check if the character is one of the letters we are looking for\n",
    "        if char in letters:\n",
    "            # Find the position (index) of the character in the 'letters' string\n",
    "            index = letters.index(char)\n",
    "            # Increase the count for this letter in our frequency list\n",
    "            freq[index] += 1  # Add 1 to the count for this letter\n",
    "\n",
    "    return freq  # Return the list that shows how many times each letter was found\n",
    "\n",
    "# Example usage\n",
    "print(frequencies('The quick red fox got bored and went home.'))  # Show letter frequencies for this sentence\n",
    "print(frequencies('apple'))  # Show letter frequencies for the word 'apple'\n"
   ]
  }
 ],
 "metadata": {
  "kernelspec": {
   "display_name": "Python 3 (ipykernel)",
   "language": "python",
   "name": "python3"
  },
  "language_info": {
   "codemirror_mode": {
    "name": "ipython",
    "version": 3
   },
   "file_extension": ".py",
   "mimetype": "text/x-python",
   "name": "python",
   "nbconvert_exporter": "python",
   "pygments_lexer": "ipython3",
   "version": "3.8.10"
  }
 },
 "nbformat": 4,
 "nbformat_minor": 5
}
